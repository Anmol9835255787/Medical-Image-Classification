{
  "cells": [
    {
      "cell_type": "code",
      "execution_count": null,
      "metadata": {
        "id": "ugafaNqf08Au"
      },
      "outputs": [],
      "source": [
        "''' Do not change this cell '''\n",
        "#Functions\n",
        "\n",
        "def check_gpu():\n",
        "  if tf.test.gpu_device_name() != '':\n",
        "    print(\"GPU sucessfully connected\")\n",
        "  else: print(\"PLease connect GPU\")\n",
        "\n",
        "def check_data():\n",
        "  a = set()\n",
        "  for image in Images:\n",
        "    a.add(Image.shape[2])\n",
        "  if len(a)==1 and len(Images)==624:\n",
        "    print(\"PASS\")\n",
        "  else: print(\"FAIL\")"
      ]
    },
    {
      "cell_type": "code",
      "execution_count": null,
      "metadata": {
        "id": "4-Y7qb0iYVbt"
      },
      "outputs": [],
      "source": [
        "#Import any library here only.\n",
        "import os \n",
        "import numpy as np\n",
        "import pandas as pd\n",
        "from matplotlib import pyplot  as plt\n",
        "import matplotlib.image as img\n",
        "import cv2"
      ]
    },
    {
      "cell_type": "markdown",
      "metadata": {
        "id": "cJLJww-DCmOK"
      },
      "source": [
        "## <font color='orange'>Task #1</font>\n",
        "\n",
        "Data loading and understanding data"
      ]
    },
    {
      "cell_type": "code",
      "execution_count": null,
      "metadata": {
        "id": "WJbEpu20Wmgr"
      },
      "outputs": [],
      "source": [
        "#Setup and check a gpu connection.\n",
        "import tensorflow as tf\n"
      ]
    },
    {
      "cell_type": "code",
      "execution_count": null,
      "metadata": {
        "id": "xh7FVYEB1i4g"
      },
      "outputs": [],
      "source": [
        "''' Do not change this cell '''\n",
        "check_gpu()"
      ]
    },
    {
      "cell_type": "code",
      "execution_count": null,
      "metadata": {
        "id": "bXslEZLxW4yx"
      },
      "outputs": [],
      "source": [
        "#Create two lists, images and labels. Store Input images in 'Images' list and its labels in 'Labels' list.\n",
        "#Infected Images have two categories viral and bacterial. Find Number of images in each class. (Hint: See image name)\n",
        "#Note that images are of different sizes.\n"
      ]
    },
    {
      "cell_type": "markdown",
      "metadata": {},
      "source": [
        "All the paths are according to drive structure of contributer\n"
      ]
    },
    {
      "cell_type": "code",
      "execution_count": null,
      "metadata": {},
      "outputs": [],
      "source": [
        "\n",
        "normal_fol_path = \"/content/drive/MyDrive/Opencode/Medical-Image-Classification/OpenCodeData/OpenCodeData/NORMAL\"\n",
        "\n",
        "infected_fol_path = \"/content/drive/MyDrive/Opencode/Medical-Image-Classification/OpenCodeData/OpenCodeData/INFECTED\""
      ]
    },
    {
      "cell_type": "code",
      "execution_count": null,
      "metadata": {},
      "outputs": [],
      "source": [
        "# making list of path of all normal images\n",
        "normal_images_path = os.listdir(\"/content/drive/MyDrive/Opencode/Medical-Image-Classification/OpenCodeData/OpenCodeData/NORMAL\")\n",
        "print(len(normal_images_path))\n",
        "normal_images_path[35]\n",
        "\n",
        "# making list of path of all infected images\n",
        "infected_images_path = os.listdir(\"/content/drive/MyDrive/Opencode/Medical-Image-Classification/OpenCodeData/OpenCodeData/INFECTED\")\n",
        "print(len(infected_images_path))\n",
        "infected_images_path[30]"
      ]
    },
    {
      "cell_type": "code",
      "execution_count": null,
      "metadata": {},
      "outputs": [],
      "source": [
        "# loading images and labels to arrays using a function\n",
        "# this funtion sets the label \n",
        "# normal -> 0\n",
        "# Viral -> 1\n",
        "# Bacterial -> 2\n",
        "\n",
        "def load_data(path,list):\n",
        "  label=[]\n",
        "  images=[]\n",
        "  for file in list:\n",
        "    file_path =  os.path.join(path,file)\n",
        "    img = cv2.imread(file_path)\n",
        "    img = cv2.resize(img,(512,512))\n",
        "    if(\"bacteria\" in file ):\n",
        "      images.append(img)\n",
        "      label.append(\"2\")\n",
        "    elif(\"virus\" in file):\n",
        "      images.append(img)\n",
        "      label.append(\"1\")\n",
        "    else:\n",
        "      images.append(img)\n",
        "      label.append(\"0\")\n",
        "\n",
        "\n",
        "  return images , label"
      ]
    },
    {
      "cell_type": "code",
      "execution_count": null,
      "metadata": {},
      "outputs": [],
      "source": [
        "#   calling load_data function\n",
        "normal_images , label_1 = load_data(normal_fol_path,normal_images_path)\n",
        "print(len(label_1))\n",
        "\n",
        "infected_images , label_2 = load_data(infected_fol_path,infected_images_path)\n",
        "print(len(label_2))"
      ]
    },
    {
      "cell_type": "code",
      "execution_count": null,
      "metadata": {},
      "outputs": [],
      "source": [
        "# converting list to numpy array\n",
        "\n",
        "normal_images = np.asarray(normal_images)\n",
        "print(normal_images.shape)\n",
        "infected_images =np.asarray(infected_images)\n",
        "print(infected_images.shape)"
      ]
    },
    {
      "cell_type": "code",
      "execution_count": null,
      "metadata": {},
      "outputs": [],
      "source": [
        "# preparing dataset with all types of images and labels \n",
        "Images = np.concatenate((normal_images, infected_images), axis=0)\n",
        "Images=pd.DataFrame(Images)\n",
        "# print(.shape)\n",
        "\n",
        "Labels = np.concatenate((label_1,label_2),axis=0)\n",
        "Labels=pd.DataFrame(Labels)\n",
        "# print(Y.shape)\n"
      ]
    },
    {
      "cell_type": "code",
      "execution_count": null,
      "metadata": {
        "id": "MYMO3xFo28TP"
      },
      "outputs": [],
      "source": [
        "''' Do not change this cell '''\n",
        "check_data(\"task1\")"
      ]
    },
    {
      "cell_type": "code",
      "execution_count": null,
      "metadata": {
        "id": "2uJ1Q2WoYkMW"
      },
      "outputs": [],
      "source": [
        "#Plot 5 images each of normal and infected category.\n",
        "#Also do neccessary labelings. Make sure your plots have all necessary details and looks good :)\n",
        "#You can customise your plots as per your wish.\n"
      ]
    },
    {
      "cell_type": "code",
      "execution_count": null,
      "metadata": {},
      "outputs": [],
      "source": [
        "ct=1\n",
        "fig = plt.figure(figsize =(16,8))\n",
        "plt.title(\"Normal Images\")\n",
        "plt.axis(\"off\")\n",
        "plt.tick_params(left = False)\n",
        "row = 2\n",
        "col = 3\n",
        "for i in  normal_images:\n",
        "  if(1<=ct<=6):\n",
        "    ct=ct+1\n",
        "    fig.add_subplot(row,col,ct-1)\n",
        "    plt.imshow(i)\n",
        "    plt.xlabel(\"Normal Image\",fontsize=\"8\")"
      ]
    },
    {
      "cell_type": "code",
      "execution_count": null,
      "metadata": {},
      "outputs": [],
      "source": [
        "ct=1\n",
        "fig = plt.figure(figsize =(16,8))\n",
        "plt.title(\"Infected Images\")\n",
        "plt.axis(\"off\")\n",
        "plt.tick_params(left = False,right=False)\n",
        "row = 2\n",
        "col = 3\n",
        "for i in  infected_images:\n",
        "  if(1<=ct<=6):\n",
        "    ct=ct+1\n",
        "    fig.add_subplot(row,col,ct-1)\n",
        "    plt.imshow(i)\n",
        "    if(label_2[ct]==1):\n",
        "      plt.xlabel(\"Bacterial Images\",fontsize=\"8\")\n",
        "    else:\n",
        "      plt.xlabel(\"Virus Images\",fontsize=\"8\")"
      ]
    },
    {
      "cell_type": "code",
      "execution_count": null,
      "metadata": {},
      "outputs": [],
      "source": []
    },
    {
      "cell_type": "code",
      "execution_count": null,
      "metadata": {},
      "outputs": [],
      "source": []
    },
    {
      "cell_type": "code",
      "execution_count": null,
      "metadata": {},
      "outputs": [],
      "source": []
    },
    {
      "cell_type": "code",
      "execution_count": null,
      "metadata": {},
      "outputs": [],
      "source": []
    }
  ],
  "metadata": {
    "colab": {
      "provenance": []
    },
    "kernelspec": {
      "display_name": "Python 3",
      "name": "python3"
    },
    "language_info": {
      "name": "python"
    }
  },
  "nbformat": 4,
  "nbformat_minor": 0
}
